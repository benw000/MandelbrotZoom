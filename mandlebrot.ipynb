{
 "cells": [
  {
   "cell_type": "markdown",
   "metadata": {},
   "source": [
    "# Mandlebrot set visualisation\n",
    "\n",
    "---"
   ]
  },
  {
   "cell_type": "code",
   "execution_count": 1,
   "metadata": {},
   "outputs": [],
   "source": [
    "import numpy as np\n",
    "import matplotlib.pyplot as plt\n",
    "from matplotlib.animation import FuncAnimation"
   ]
  },
  {
   "cell_type": "markdown",
   "metadata": {},
   "source": [
    "Complex numbers native to Python!"
   ]
  },
  {
   "cell_type": "code",
   "execution_count": 5,
   "metadata": {},
   "outputs": [
    {
     "name": "stdout",
     "output_type": "stream",
     "text": [
      "(1+1j) <class 'complex'>\n",
      "(1-1j)\n"
     ]
    }
   ],
   "source": [
    "demorgan = 1+1j\n",
    "print(demorgan, type(demorgan))\n",
    "print(demorgan.conjugate())"
   ]
  },
  {
   "cell_type": "markdown",
   "metadata": {},
   "source": [
    "## Mandlebrot set definition:\n",
    "\n",
    "The subset of complex numbers $c$ in the complex plane such that the function:\n",
    "$$\n",
    "f_{c}(z) = z^2 + c\n",
    "$$\n",
    "does not diverge to infinity, when $f$ is iterated, from initial condition $z$.\n",
    "\n",
    "ie, the sequence $ (f_c(0), \\ f_c(f_c(0)), \\ f_c^3(0), \\ ... )$ remains bounded in absolute value."
   ]
  },
  {
   "cell_type": "code",
   "execution_count": 6,
   "metadata": {},
   "outputs": [],
   "source": [
    "def mandlebrot_f(c: complex, z: complex) -> complex:\n",
    "    '''\n",
    "    Mandlebrot generator function f_c(z)=z^2 + c\n",
    "    '''\n",
    "    return z*z + c"
   ]
  },
  {
   "cell_type": "markdown",
   "metadata": {},
   "source": [
    "First step is to visualise a single sequence f, f(f), f(f(f)),..., iterating N times and plotting"
   ]
  },
  {
   "cell_type": "code",
   "execution_count": 25,
   "metadata": {},
   "outputs": [],
   "source": [
    "def recursion_list(c: complex, N: int, recursion_func = mandlebrot_f)->list[complex]:\n",
    "    '''\n",
    "    Packaging function to recursively call recursion_func N times.\n",
    "    recursion_func must accept z and c as arguments.\n",
    "    Returns a list of complex z values \n",
    "    '''\n",
    "    if N <= 0:\n",
    "        raise ValueError(\"Please supply a number of iterations over 0.\")\n",
    "    try:\n",
    "        _ = recursion_func(c=0+0j, z=0+0j)\n",
    "    except:\n",
    "        raise Exception(\"Please change recursion_func so that it accepts c and z as arguments.\")\n",
    "\n",
    "    z: complex = 0+0j\n",
    "    results = [z]\n",
    "\n",
    "    # Call recursion func N times on z=0+0i input\n",
    "    for iter_num in range(N):\n",
    "        z = recursion_func(c=c,z=z)\n",
    "        results += [z]\n",
    "    \n",
    "    return results\n",
    "\n",
    "def unpacker(results: list[complex]) -> (np.ndarray, np.ndarray):\n",
    "    N = len(results)\n",
    "    x_vals, y_vals = np.zeros(N), np.zeros(N)\n",
    "    for iter_num in range(N):\n",
    "        val = results[iter_num]\n",
    "        x_vals[iter_num], y_vals[iter_num] = val.real, val.imag\n",
    "    return (x_vals, y_vals)"
   ]
  },
  {
   "cell_type": "code",
   "execution_count": 26,
   "metadata": {},
   "outputs": [
    {
     "data": {
      "image/png": "[encoded data removed]",
      "text/plain": [
       "<Figure size 576x576 with 1 Axes>"
      ]
     },
     "metadata": {
      "needs_background": "light"
     },
     "output_type": "display_data"
    }
   ],
   "source": [
    "c: complex = 0.5 + 0.5j\n",
    "\n",
    "x_vals, y_vals = unpacker(recursion_list(c=c,N=6))\n",
    "fig = plt.figure(figsize=[8,8])\n",
    "\n",
    "plt.plot(x_vals, y_vals, alpha=0.5, c='b',linestyle=':')\n",
    "plt.scatter(x_vals, y_vals, marker='x', c='k', s=20)\n",
    "plt.xlim([-10,10])\n",
    "plt.ylim([-10,10])\n",
    "plt.axis('equal')\n",
    "plt.show()"
   ]
  },
  {
   "cell_type": "markdown",
   "metadata": {},
   "source": [
    "# General plot\n",
    "\n",
    "Now we make a more general function to find if a point $c \\in \\mathbb{C}$ diverges under our function"
   ]
  },
  {
   "cell_type": "code",
   "execution_count": null,
   "metadata": {},
   "outputs": [],
   "source": []
  },
  {
   "cell_type": "code",
   "execution_count": null,
   "metadata": {},
   "outputs": [],
   "source": []
  }
 ],
 "metadata": {
  "kernelspec": {
   "display_name": "base",
   "language": "python",
   "name": "python3"
  },
  "language_info": {
   "codemirror_mode": {
    "name": "ipython",
    "version": 3
   },
   "file_extension": ".py",
   "mimetype": "text/x-python",
   "name": "python",
   "nbconvert_exporter": "python",
   "pygments_lexer": "ipython3",
   "version": "3.9.7"
  }
 },
 "nbformat": 4,
 "nbformat_minor": 2
}
