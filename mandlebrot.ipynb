{
 "cells": [
  {
   "cell_type": "markdown",
   "metadata": {},
   "source": [
    "# Mandlebrot set visualisation\n",
    "\n",
    "---"
   ]
  },
  {
   "cell_type": "code",
   "execution_count": 1,
   "metadata": {},
   "outputs": [],
   "source": [
    "import numpy as np\n",
    "import matplotlib.pyplot as plt\n",
    "from matplotlib.animation import FuncAnimation"
   ]
  },
  {
   "cell_type": "markdown",
   "metadata": {},
   "source": [
    "Complex numbers native to Python!"
   ]
  },
  {
   "cell_type": "code",
   "execution_count": 5,
   "metadata": {},
   "outputs": [
    {
     "name": "stdout",
     "output_type": "stream",
     "text": [
      "(1+1j) <class 'complex'>\n",
      "(1-1j)\n"
     ]
    }
   ],
   "source": [
    "demorgan = 1+1j\n",
    "print(demorgan, type(demorgan))\n",
    "print(demorgan.conjugate())"
   ]
  },
  {
   "cell_type": "markdown",
   "metadata": {},
   "source": [
    "## Mandlebrot set definition:\n",
    "\n",
    "The subset of complex numbers $c$ in the complex plane such that the function:\n",
    "$$\n",
    "f_{c}(z) = z^2 + c\n",
    "$$\n",
    "does not diverge to infinity, when $f$ is iterated, from initial condition $z$.\n",
    "\n",
    "ie, the sequence $ (f_c(0), \\ f_c(f_c(0)), \\ f_c^3(0), \\ ... )$ remains bounded in absolute value."
   ]
  },
  {
   "cell_type": "code",
   "execution_count": 92,
   "metadata": {},
   "outputs": [],
   "source": [
    "def mandlebrot_f(c: complex, z: complex) -> complex:\n",
    "    '''\n",
    "    Mandlebrot generator function f_c(z)=z^2 + c\n",
    "    '''\n",
    "    return z*z + c"
   ]
  },
  {
   "cell_type": "markdown",
   "metadata": {},
   "source": [
    "First step is to visualise a single sequence f, f(f), f(f(f)),..., iterating N times and plotting"
   ]
  },
  {
   "cell_type": "code",
   "execution_count": 93,
   "metadata": {},
   "outputs": [],
   "source": [
    "def recursion_list(c: complex, N: int, recursion_func = mandlebrot_f)->list[complex]:\n",
    "    '''\n",
    "    Packaging function to recursively call recursion_func N times.\n",
    "    recursion_func must accept z and c as arguments.\n",
    "    Returns a list of complex z values \n",
    "    '''\n",
    "    if N <= 0:\n",
    "        raise ValueError(\"Please supply a number of iterations over 0.\")\n",
    "    try:\n",
    "        _ = recursion_func(c=0+0j, z=0+0j)\n",
    "    except:\n",
    "        raise Exception(\"Please change recursion_func so that it accepts c and z as arguments.\")\n",
    "\n",
    "    z: complex = 0+0j\n",
    "    results = [z]\n",
    "\n",
    "    # Call recursion func N times on z=0+0i input\n",
    "    for iter_num in range(N):\n",
    "        z = recursion_func(c=c,z=z)\n",
    "        results += [z]\n",
    "    \n",
    "    return results\n",
    "\n",
    "def unpacker(results: list[complex]) -> (np.ndarray, np.ndarray):\n",
    "    N = len(results)\n",
    "    x_vals, y_vals = np.zeros(N), np.zeros(N)\n",
    "    for iter_num in range(N):\n",
    "        val = results[iter_num]\n",
    "        x_vals[iter_num], y_vals[iter_num] = val.real, val.imag\n",
    "    return (x_vals, y_vals)"
   ]
  },
  {
   "cell_type": "code",
   "execution_count": 94,
   "metadata": {},
   "outputs": [
    {
     "data": {
      "image/png": "[encoded data removed]",
      "text/plain": [
       "<Figure size 576x576 with 1 Axes>"
      ]
     },
     "metadata": {
      "needs_background": "light"
     },
     "output_type": "display_data"
    }
   ],
   "source": [
    "c: complex = 0.5 + 0.5j\n",
    "\n",
    "x_vals, y_vals = unpacker(recursion_list(c=c,N=6))\n",
    "fig = plt.figure(figsize=[8,8])\n",
    "\n",
    "plt.plot(x_vals, y_vals, alpha=0.5, c='b',linestyle=':')\n",
    "plt.scatter(x_vals, y_vals, marker='x', c='k', s=20)\n",
    "plt.xlim([-10,10])\n",
    "plt.ylim([-10,10])\n",
    "plt.axis('equal')\n",
    "plt.show()"
   ]
  },
  {
   "cell_type": "markdown",
   "metadata": {},
   "source": [
    "# General plot\n",
    "\n",
    "Now we make a more general function to find if a point $c \\in \\mathbb{C}$ diverges under our function"
   ]
  },
  {
   "cell_type": "code",
   "execution_count": 162,
   "metadata": {},
   "outputs": [],
   "source": [
    "def recursion(c: complex, N: int, recursion_func = mandlebrot_f) -> complex:\n",
    "    '''\n",
    "    Packaging function to recursively call recursion_func N times.\n",
    "    recursion_func must accept z and c as arguments.\n",
    "    Returns the final z value\n",
    "    '''\n",
    "    if N <= 0:\n",
    "        raise ValueError(\"Please supply a number of iterations over 0.\")\n",
    "    \n",
    "    # Bugfixing, would slow code down\n",
    "    #try:\n",
    "    #    _ = recursion_func(c=0+0j, z=0+0j)\n",
    "    #except:\n",
    "    #    raise Exception(\"Please change recursion_func so that it accepts c and z as arguments.\")\n",
    "\n",
    "    z: complex = 0+0j\n",
    "\n",
    "    # Call recursion func N times on z=0+0i input\n",
    "    for iter_num in range(N):\n",
    "        z = recursion_func(c=c,z=z)\n",
    "\n",
    "    return z\n",
    "\n",
    "def get_colour(c: complex, N: int = 10, recursion_func = mandlebrot_f) -> float:\n",
    "    '''\n",
    "    Function taking point c in complex plane, and calling it's recursive function f_c N times.\n",
    "    Determines colour based on absolute value of final point.\n",
    "    '''\n",
    "    # Check c isn't outside r=2 disc - we know these diverge\n",
    "    abs_c = abs(c)\n",
    "    if abs_c >= 2:\n",
    "        return 0\n",
    "\n",
    "    # Call recursive function N times\n",
    "    final_z = recursion(c,N,recursion_func)\n",
    "\n",
    "    # Find its absolute value\n",
    "    try:\n",
    "        abs_z = abs(final_z)\n",
    "    except:\n",
    "        return 0\n",
    "    \n",
    "    if np.isnan(abs_z):\n",
    "        return 0\n",
    "    \n",
    "    # Return piecewise colour function of absolute value\n",
    "    cut_off = 2\n",
    "    if abs_z <= cut_off:\n",
    "        return 1\n",
    "    else:\n",
    "        scale = 1\n",
    "        return np.exp(-scale*(abs_z-cut_off))\n",
    "\n",
    "def pixel_to_complex_coords(u: int,v: int, res_x:int=500, res_y:int=500) -> complex:\n",
    "    '''\n",
    "    Function to convert pixel coordinates in a certain resolution pixel frame into complex coords.\n",
    "    res_x and res_y must be even\n",
    "    '''\n",
    "    if res_x % 2 == 1 or res_y % 2 ==1 or res_x <= 2 or res_y <= 2:\n",
    "        raise ValueError(\"Please input positive, even resolutions for x and y.\")\n",
    "    # Calculate width w of a pixel in complex coord frame\n",
    "    # Our image should at minimum view [2,2]^2 \n",
    "    frame_bounds = 2\n",
    "    w = frame_bounds * (2/(min(res_x,res_y)))\n",
    "    \n",
    "    # Calculate top left x and y complex points\n",
    "    top_left_x, top_left_y = -w*(res_x/2)+w/2 , w*(res_y/2)-w/2\n",
    "\n",
    "    # Calculate complex points\n",
    "    x,y = top_left_x + u*w, top_left_y - v*w\n",
    "\n",
    "    return complex(x,y)\n",
    "\n",
    "\n",
    "# Main rendering function\n",
    "def get_image_vals(res_x:int=500, res_y:int=500, N: int = 10, recursion_func = mandlebrot_f) -> np.ndarray:\n",
    "    '''\n",
    "    Gets a matrix of res_x by res_y values, and queries the colour for each with get_colour.\n",
    "    '''\n",
    "    image_matrix = np.zeros([res_x, res_y])\n",
    "\n",
    "    for u in range(res_x):\n",
    "        for v in range(res_y):\n",
    "            c = pixel_to_complex_coords(u=u, v=v, res_x=res_x, res_y=res_y)\n",
    "            image_matrix[u,v] = get_colour(c=c, N=N, recursion_func=recursion_func)\n",
    "\n",
    "    return image_matrix"
   ]
  },
  {
   "cell_type": "code",
   "execution_count": 163,
   "metadata": {},
   "outputs": [],
   "source": [
    "# Calculate values\n",
    "res_x, res_y = 200,100\n",
    "image_matrix = get_image_vals(res_x=res_x, res_y=res_y, N=15)"
   ]
  },
  {
   "cell_type": "code",
   "execution_count": 155,
   "metadata": {},
   "outputs": [
    {
     "data": {
      "image/png": "[encoded data removed]",
      "text/plain": [
       "<Figure size 1080x1080 with 1 Axes>"
      ]
     },
     "metadata": {
      "needs_background": "light"
     },
     "output_type": "display_data"
    }
   ],
   "source": [
    "# Plot values \n",
    "fig = plt.figure(figsize=[15,15])\n",
    "plt.matshow(image_matrix.transpose(), fignum=0, vmin=0, vmax=1) # Note because of matshow we need to transpose the matrix\n",
    "plt.show()"
   ]
  },
  {
   "cell_type": "markdown",
   "metadata": {},
   "source": [
    "## Zooming in"
   ]
  },
  {
   "cell_type": "code",
   "execution_count": 203,
   "metadata": {},
   "outputs": [],
   "source": [
    "def get_colour(c: complex, N: int = 10, recursion_func = mandlebrot_f) -> float:\n",
    "    '''\n",
    "    Function taking point c in complex plane, and calling it's recursive function f_c N times.\n",
    "    Determines colour based on absolute value of final point.\n",
    "    '''\n",
    "    # Check c isn't outside r=2 disc - we know these diverge\n",
    "    abs_c = abs(c)\n",
    "    if abs_c >= 2:\n",
    "        return 0\n",
    "\n",
    "    # Call recursive function N times\n",
    "    final_z = recursion(c,N,recursion_func)\n",
    "\n",
    "    # Find its absolute value\n",
    "    try:\n",
    "        abs_z = abs(final_z)\n",
    "    except:\n",
    "        return 0\n",
    "    if np.isnan(abs_z):\n",
    "        return 0\n",
    "    \n",
    "    # Return piecewise colour function of absolute value\n",
    "    cut_off = 2\n",
    "    if abs_z <= cut_off:\n",
    "        return 1\n",
    "    else:\n",
    "        scale = 0.01\n",
    "        return np.exp(-scale*(abs_z-cut_off))\n",
    "\n",
    "def step_pixel_to_complex_coords(u: int,v: int, res_x:int=500, res_y:int=500,\n",
    "                                  focus: complex = 0+0j,\n",
    "                                  step: int = 0) -> complex:\n",
    "    '''\n",
    "    Function to convert pixel coordinates in a certain resolution pixel frame into complex coords.\n",
    "    res_x and res_y must be even\n",
    "    '''\n",
    "    # Calculate width w of a pixel in complex coord frame\n",
    "    # Our image should at minimum view [2,2]^2 \n",
    "    w = 2 * (2/(min(res_x,res_y))) * 2/(2*(step+1))\n",
    "    \n",
    "    # Calculate top left x and y complex points\n",
    "    top_left_x, top_left_y = focus.real + -w*(res_x/2)+w/2 , focus.imag + w*(res_y/2)-w/2\n",
    "\n",
    "    # Calculate complex points\n",
    "    x,y = top_left_x + u*w, top_left_y - v*w\n",
    "\n",
    "    return complex(x,y)\n",
    "\n",
    "def step_get_image_vals(step: int = 0, res_x:int=500, res_y:int=500, focus: complex = 0+0j,\n",
    "                        N: int = 10, recursion_func = mandlebrot_f) -> np.ndarray:\n",
    "    '''\n",
    "    Gets a matrix of res_x by res_y values for a particular step, and queries the colour for each with get_colour.\n",
    "    '''\n",
    "    image_matrix = np.zeros([res_x, res_y])\n",
    "\n",
    "    for u in range(res_x):\n",
    "        for v in range(res_y):\n",
    "            c = step_pixel_to_complex_coords(u=u, v=v, res_x=res_x, res_y=res_y, \n",
    "                                             focus=focus,step=step)\n",
    "            image_matrix[u,v] = get_colour(c=c, N=N, recursion_func=recursion_func)\n",
    "\n",
    "    return image_matrix\n",
    "\n",
    "def zoom_in_step(step: int, ax, focus: complex,\n",
    "            res_x: int, res_y: int, num_frames: int, recentering_steps: int = 5, N: int = 10):\n",
    "    ''' \n",
    "    Zoom in function, renders the Nth step\n",
    "    Phase 1: Recentering\n",
    "        Move from origin to supplied focus point in recentering_steps many steps, while zooming in\n",
    "    Phase 2: Normal zooming\n",
    "        Just zoom in for the remaining steps\n",
    "    '''\n",
    "    if res_x % 2 == 1 or res_y % 2 ==1 or res_x <= 2 or res_y <= 2:\n",
    "        raise ValueError(\"Please input positive, even resolutions for x and y.\")\n",
    "    if step < 0:\n",
    "        raise ValueError(\"Can't have negative step\")\n",
    "    \n",
    "    print(f\"Step {round(step+1)}/{num_frames}\", end='\\r', flush=True)\n",
    "\n",
    "    if step <= recentering_steps: # Phase 1\n",
    "        current_focus = focus * step/recentering_steps\n",
    "        image_matrix = step_get_image_vals(res_x=res_x, res_y=res_y, N=N,\n",
    "                                            focus=current_focus, step=step)\n",
    "    else: # Phase 2\n",
    "        image_matrix = step_get_image_vals(res_x=res_x, res_y=res_y, N=N,\n",
    "                                            focus=focus, step=step)\n",
    "    \n",
    "    ax = ax[0]\n",
    "    ax.clear()\n",
    "    ax.set_axis_off()\n",
    "    cmap = plt.cm.afmhot_r\n",
    "    ax.matshow(image_matrix.transpose(), vmin=0, vmax=1, cmap=cmap)\n",
    "    "
   ]
  },
  {
   "cell_type": "code",
   "execution_count": 204,
   "metadata": {},
   "outputs": [
    {
     "name": "stdout",
     "output_type": "stream",
     "text": [
      "Runtime approximately 40 seconds\n",
      "-\n",
      "Step 20/20\n",
      "\n",
      "Saved simulation as mp4 at Mandlebrot_400_by_400_with_20_steps.mp4.\n"
     ]
    },
    {
     "data": {
      "image/png": "[encoded data removed]",
      "text/plain": [
       "<Figure size 1080x1080 with 1 Axes>"
      ]
     },
     "metadata": {
      "needs_background": "light"
     },
     "output_type": "display_data"
    }
   ],
   "source": [
    "interval_between_frames = 200 # milliseconds\n",
    "num_frames = 20\n",
    "focus = -0.75+0.1j\n",
    "res_x, res_y = 400,400\n",
    "N = 50\n",
    "\n",
    "print(f\"Runtime approximately {round(num_frames*(res_x*res_y)/80000)} seconds\")\n",
    "print(\"-\")\n",
    "\n",
    "fig, ax = plt.subplots(figsize=[15,15])\n",
    "scat = ax.scatter([], [])\n",
    "\n",
    "ani = FuncAnimation(fig, zoom_in_step, frames=num_frames, \\\n",
    "                        fargs=([ax],focus,res_x,res_y,num_frames, 5, N,), interval=interval_between_frames)\n",
    "\n",
    "save_as_mp4 = True\n",
    "if save_as_mp4:\n",
    "    mp4_path = f\"Mandlebrot_{res_x}_by_{res_y}_with_{num_frames}_steps.mp4\"\n",
    "    fps = 1/(interval_between_frames*(10**(-3))) # period -> frequency\n",
    "    ani.save(mp4_path, writer='ffmpeg', fps=fps)\n",
    "    print(\"\\n\")\n",
    "    print(f\"Saved simulation as mp4 at {mp4_path}.\")\n",
    "\n",
    "plt.show()"
   ]
  },
  {
   "cell_type": "code",
   "execution_count": 207,
   "metadata": {},
   "outputs": [],
   "source": [
    "def render_zoom_in(focus: complex,\n",
    "                    res_x: int = 400, res_y: int = 400, N: int = 50,\n",
    "                    num_frames: int = 20, interval_between_frames: int = 200,\n",
    "                    centering_frames: int = 5,\n",
    "                    save_as_mp4: bool = True, user_mp4_path: str = None):\n",
    "    ''' \n",
    "    Render mandelbrot zoom.\n",
    "\n",
    "    focus - complex number that we zoom in on\n",
    "    res_x, res_y - even integers for x and y resolution, default 400,400\n",
    "    num_frames - number of frames, each frame zooms in\n",
    "    interval_between_frames - interval in milliseconds between frames\n",
    "    centering_frames - number of initial frames used to center on our focus\n",
    "    save_as_mp4 - bool, whether to save as mp4\n",
    "    user_mp4_path - path to save the mp4\n",
    "    '''\n",
    "\n",
    "    print(f\"Runtime approximately {round(num_frames*(res_x*res_y)/80000)} seconds\")\n",
    "    print(\"-\")\n",
    "\n",
    "    fig, ax = plt.subplots(figsize=[15,15])\n",
    "    _ = ax.scatter([], [])\n",
    "\n",
    "    ani = FuncAnimation(fig, zoom_in_step, frames=num_frames, \\\n",
    "                            fargs=([ax],focus,res_x,res_y,num_frames, centering_frames, N,),\n",
    "                              interval=interval_between_frames)\n",
    "\n",
    "    save_as_mp4 = True\n",
    "    if save_as_mp4:\n",
    "        mp4_path = f\"renders/Mandlebrot_{res_x}_by_{res_y}_with_{num_frames}_steps.mp4\"\n",
    "        if user_mp4_path:\n",
    "            mp4_path = \"renders/\" + user_mp4_path\n",
    "            if not mp4_path.lower().endswith('.mp4'):\n",
    "                file_path += '.mp4'\n",
    "        fps = 1/(interval_between_frames*(10**(-3))) # period -> frequency\n",
    "        ani.save(mp4_path, writer='ffmpeg', fps=fps)\n",
    "        print(\"\\n\")\n",
    "        print(f\"Saved simulation as mp4 at {mp4_path}.\")\n",
    "    plt.show()"
   ]
  },
  {
   "cell_type": "code",
   "execution_count": 208,
   "metadata": {},
   "outputs": [
    {
     "name": "stdout",
     "output_type": "stream",
     "text": [
      "Runtime approximately 40 seconds\n",
      "-\n",
      "Step 20/20\n",
      "\n",
      "Saved simulation as mp4 at renders/Seahorse.mp4.\n"
     ]
    },
    {
     "data": {
      "image/png": "[encoded data removed]",
      "text/plain": [
       "<Figure size 1080x1080 with 1 Axes>"
      ]
     },
     "metadata": {
      "needs_background": "light"
     },
     "output_type": "display_data"
    }
   ],
   "source": [
    "seahorse = -0.75+0.1j\n",
    "elephant = 0.28 + 0.01j\n",
    "minibrot = -1.25 + 0j\n",
    "spiral = -0.1011 + 0.9563j\n",
    "antenna =  -0.1566 + 1.0323j\n",
    "cross = -0.743643135 + 0.131825963j\n",
    "\n",
    "render_zoom_in(focus=seahorse, user_mp4_path=\"Seahorse.mp4\")"
   ]
  },
  {
   "cell_type": "code",
   "execution_count": null,
   "metadata": {},
   "outputs": [],
   "source": []
  }
 ],
 "metadata": {
  "kernelspec": {
   "display_name": "base",
   "language": "python",
   "name": "python3"
  },
  "language_info": {
   "codemirror_mode": {
    "name": "ipython",
    "version": 3
   },
   "file_extension": ".py",
   "mimetype": "text/x-python",
   "name": "python",
   "nbconvert_exporter": "python",
   "pygments_lexer": "ipython3",
   "version": "3.9.7"
  }
 },
 "nbformat": 4,
 "nbformat_minor": 2
}
